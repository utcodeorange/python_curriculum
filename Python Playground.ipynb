{
 "cells": [
  {
   "cell_type": "markdown",
   "metadata": {},
   "source": [
    "# Welcome to the Python Playground! 🐍\n",
    "\n",
    "\n",
    "This notebook is meant to introduce concepts, and provide a foundation for Code Orange mentees ready to move on from Scratch! This is by no means meant to be an exhaustive source of foundation material, just a starting point! We will introduce several concepts. Markdown cells marked with a `🍊` contain content to be read and explained by the mentor, while cells marked with a `🐣` are meant to be completed by the mentee!"
   ]
  },
  {
   "cell_type": "markdown",
   "metadata": {},
   "source": [
    "## Part 1: Printing 🖨\n",
    "\n",
    "\"The computer won't do something unless we tell it to!\"\n",
    "\n",
    "🍊`Programming Language`: A language is something we use to talk to our friends and family, and allows us to communicate! We want to talk to the computer to tell it what we want it to do in a way that the computer understands. We call this a `programming language`. \n",
    "\n",
    "\n",
    "🍊A `statement` is a way for us to tell the computer to do something! \n",
    "\n",
    "\n",
    "🐣 Let's start by telling the computer to say something to us. We can do this by using a `print` statement. We can run our snippet of code by pressing the `Run` button (similar to Scratch's green play button)."
   ]
  },
  {
   "cell_type": "code",
   "execution_count": null,
   "metadata": {},
   "outputs": [],
   "source": [
    "print(\"Hello world! 🌎\")"
   ]
  },
  {
   "cell_type": "markdown",
   "metadata": {},
   "source": [
    "🐣Whoa! What just happened? We told the computer to print something, and it did! Great job! Let's keep going! Type in whatever you want the computer to say below. Play around a little bit with this :) "
   ]
  },
  {
   "cell_type": "code",
   "execution_count": null,
   "metadata": {},
   "outputs": [],
   "source": [
    "print(\" \")"
   ]
  },
  {
   "cell_type": "markdown",
   "metadata": {},
   "source": [
    "## Part 2: Calculator! 🔢"
   ]
  },
  {
   "cell_type": "markdown",
   "metadata": {},
   "source": [
    "🐣In school, your teachers may tell you to do multiplication tables, or find the sum of 2 numbers. What if we could write code to do this for us?? Let's do this!"
   ]
  },
  {
   "cell_type": "markdown",
   "metadata": {},
   "source": [
    "We can use the `+` sign to add numbers together, the `-` sign for subtraction, the `*` sign for multiplication, and the `/` sign for division."
   ]
  },
  {
   "cell_type": "code",
   "execution_count": null,
   "metadata": {},
   "outputs": [],
   "source": [
    "3 + 4"
   ]
  },
  {
   "cell_type": "code",
   "execution_count": null,
   "metadata": {},
   "outputs": [],
   "source": [
    "103 - 10"
   ]
  },
  {
   "cell_type": "code",
   "execution_count": null,
   "metadata": {},
   "outputs": [],
   "source": [
    "10 * 2"
   ]
  },
  {
   "cell_type": "markdown",
   "metadata": {},
   "source": [
    "### Word Problem 🍏🍎\n",
    "\n",
    "🍊Use Python operators to solve a simple word problem.\n",
    "\n",
    "🐣Let me tell you a story. Let's say I have 60 apples. My friend asks me for 47, so I give her 47 apples. After a few days, I see 24 more apples grow. How many apples do I have now? Write some code."
   ]
  },
  {
   "cell_type": "code",
   "execution_count": null,
   "metadata": {},
   "outputs": [],
   "source": []
  },
  {
   "cell_type": "markdown",
   "metadata": {},
   "source": [
    "Congratulations! 🎉We have learned how to do 2 things so far: tell the computer to say something with `print` statements, and have the computer do math for us. Onward!"
   ]
  },
  {
   "cell_type": "markdown",
   "metadata": {},
   "source": [
    "## Part 3: Variables 📦"
   ]
  },
  {
   "cell_type": "markdown",
   "metadata": {},
   "source": [
    "🍊A variable is a box. We can put something in the box, and we can take something out of the box. We use variables as places to store information, things like sentences, numbers, and much more! Another way to think about a variable is that it is like a label for something. We can give almost any name for to variable! For this section, take out a piece of paper, and draw a box for each variable. \"Put\" numbers in and erase numbers to represent variables."
   ]
  },
  {
   "cell_type": "markdown",
   "metadata": {},
   "source": [
    "🐣Let's create our first variable named `foo`. To put something in our variable (our box), we use the `=` sign, and then tell the computer what the variable should be the label for."
   ]
  },
  {
   "cell_type": "code",
   "execution_count": null,
   "metadata": {},
   "outputs": [],
   "source": [
    "foo = 5"
   ]
  },
  {
   "cell_type": "markdown",
   "metadata": {},
   "source": [
    "Once we run the piece of code above, we will have a variable called `foo` that contains the number 5! How can we check that the variable (\"box\") `foo` contains `5`?"
   ]
  },
  {
   "cell_type": "markdown",
   "metadata": {},
   "source": [
    "🐣Remember we learned about `print` statements before? We can tell the computer to `print` almost anything! Let's ask the computer to `print` out what our variable `foo` has. How do you think we can do that?"
   ]
  },
  {
   "cell_type": "code",
   "execution_count": null,
   "metadata": {},
   "outputs": [],
   "source": []
  },
  {
   "cell_type": "markdown",
   "metadata": {},
   "source": [
    "🐣 Let's change what we put in our variable \"box\"! Instead of the number 5, let's put the number 100."
   ]
  },
  {
   "cell_type": "code",
   "execution_count": null,
   "metadata": {},
   "outputs": [],
   "source": []
  },
  {
   "cell_type": "markdown",
   "metadata": {},
   "source": [
    "##### Congratulations! You now know how to create variables. 🎉"
   ]
  },
  {
   "cell_type": "markdown",
   "metadata": {},
   "source": [
    "🐣Can we put what we learned about math and variables together? Let's go back to our apples question. Can you create a variable called `apples` and have it contain the number `60`?"
   ]
  },
  {
   "cell_type": "code",
   "execution_count": null,
   "metadata": {},
   "outputs": [],
   "source": []
  },
  {
   "cell_type": "markdown",
   "metadata": {},
   "source": [
    "Great! Let's check the number of apples in our `apples` variable. The `print` statement should print out 60!"
   ]
  },
  {
   "cell_type": "code",
   "execution_count": null,
   "metadata": {
    "scrolled": true
   },
   "outputs": [],
   "source": [
    "print(apples)"
   ]
  },
  {
   "cell_type": "markdown",
   "metadata": {},
   "source": [
    "We can do math with variables too! In the statement `foo = foo + 4`, the computer first looks at the right hand side of the `=` sign. When the computer first sees the variable `foo`, and it will go check the number inside the `foo` variable and take it out of the variable (box). It will then add `4` to that number, and then place the new value back inside of the variable box `foo`! \n",
    "\n",
    "Let's see this in action!"
   ]
  },
  {
   "cell_type": "code",
   "execution_count": null,
   "metadata": {},
   "outputs": [],
   "source": [
    "foo = 10\n",
    "foo = foo + 5\n",
    "# What do you think the computer will print?\n",
    "print(foo)"
   ]
  },
  {
   "cell_type": "markdown",
   "metadata": {},
   "source": [
    "🍊Write a series of assignment/arithmetic statements with the variable `apples` to model the word problem above. Then, print the final value of `apples`. "
   ]
  },
  {
   "cell_type": "code",
   "execution_count": null,
   "metadata": {},
   "outputs": [],
   "source": []
  },
  {
   "cell_type": "markdown",
   "metadata": {},
   "source": [
    "## More math with variables! 🍪🥧"
   ]
  },
  {
   "cell_type": "markdown",
   "metadata": {},
   "source": [
    "Who doesn't like cookies?! Let's play around more with variables, and cookies 😋"
   ]
  },
  {
   "cell_type": "markdown",
   "metadata": {},
   "source": [
    "🐣 Let's say I buy 4 cookies from the grocery store. Create a variable called `cookies` and have it contain the number `4`. Write a print statement to check the variable value!"
   ]
  },
  {
   "cell_type": "code",
   "execution_count": null,
   "metadata": {},
   "outputs": [],
   "source": []
  },
  {
   "cell_type": "code",
   "execution_count": null,
   "metadata": {},
   "outputs": [],
   "source": []
  },
  {
   "cell_type": "markdown",
   "metadata": {},
   "source": [
    "🐣I got extra hungry, and went back and bought 6 pies from the grocery store too! Create a variables called `pies` and have it contain the number `6`."
   ]
  },
  {
   "cell_type": "code",
   "execution_count": null,
   "metadata": {},
   "outputs": [],
   "source": []
  },
  {
   "cell_type": "markdown",
   "metadata": {},
   "source": [
    "How can I use my two variables `cookies` and `pies` to print how many desserts I have total? Write code!"
   ]
  },
  {
   "cell_type": "code",
   "execution_count": null,
   "metadata": {},
   "outputs": [],
   "source": []
  },
  {
   "cell_type": "markdown",
   "metadata": {},
   "source": [
    "## Aside: Strings 🧵"
   ]
  },
  {
   "cell_type": "markdown",
   "metadata": {},
   "source": [
    "🍊Just like numbers, we can also have words and sentences in our code! We call these pieces of text `strings`.\n",
    "<br> 🐣You can think of a string as a bunch of letters, the term makes sense."
   ]
  },
  {
   "cell_type": "markdown",
   "metadata": {},
   "source": [
    "We wrap any piece of text in quotation marks (`''`) to make a `string`! In fact, when we practiced printing `Hello world!`, we were printing a `string`!"
   ]
  },
  {
   "cell_type": "code",
   "execution_count": null,
   "metadata": {},
   "outputs": [],
   "source": [
    "print(\"Hello again, world!\")"
   ]
  },
  {
   "cell_type": "markdown",
   "metadata": {},
   "source": [
    "Can you create a variable called `myName`, and have it contain a string with your name?"
   ]
  },
  {
   "cell_type": "code",
   "execution_count": null,
   "metadata": {},
   "outputs": [],
   "source": []
  },
  {
   "cell_type": "markdown",
   "metadata": {},
   "source": [
    "## Part 4: Lists 📝"
   ]
  },
  {
   "cell_type": "markdown",
   "metadata": {},
   "source": [
    "🍊Imagine writing down a list of foods before going to the grocery store! We can create and store lists with Python too! We can create a list of `strings` using `[]` separated by `,`. In the piece of code below, we have stored a grocery list into a variable `groceryList`.\n",
    "\n",
    "We can store almost anything a list! Numbers, strings, etc."
   ]
  },
  {
   "cell_type": "code",
   "execution_count": null,
   "metadata": {},
   "outputs": [],
   "source": [
    "groceryList = ['apples', 'cookies', 'milk']"
   ]
  },
  {
   "cell_type": "code",
   "execution_count": null,
   "metadata": {},
   "outputs": [],
   "source": [
    "print(groceryList)"
   ]
  },
  {
   "cell_type": "markdown",
   "metadata": {},
   "source": [
    "Create your own grocery list with __5 items__, and store it in a variable."
   ]
  },
  {
   "cell_type": "code",
   "execution_count": null,
   "metadata": {},
   "outputs": [],
   "source": []
  },
  {
   "cell_type": "markdown",
   "metadata": {},
   "source": [
    "🐣Let's say someone asked us the question, \"Hey! Could you tell me the first item on your grocery list?\". How would you answer them?\n",
    "\n",
    "Let's learn how to figure this out with code!"
   ]
  },
  {
   "cell_type": "markdown",
   "metadata": {},
   "source": [
    "We can use `[` and `]` with a number in between next to the name of our list. For example, `groceryList[1]`.\n",
    "\n",
    "Let's try printing the first item on our grocery list! Fill in the `❓` with a number. What do you think this will print?"
   ]
  },
  {
   "cell_type": "code",
   "execution_count": null,
   "metadata": {
    "scrolled": true
   },
   "outputs": [],
   "source": [
    "print(groceryList[❓])"
   ]
  },
  {
   "cell_type": "markdown",
   "metadata": {},
   "source": [
    "Huh 🤔?! Why didn't this print the first item of the list? Python is a little weird! It starts counting from the number 0 instead of 1."
   ]
  },
  {
   "cell_type": "markdown",
   "metadata": {},
   "source": [
    "With this in mind, can you print the first item on your grocery list?"
   ]
  },
  {
   "cell_type": "code",
   "execution_count": null,
   "metadata": {},
   "outputs": [],
   "source": []
  },
  {
   "cell_type": "markdown",
   "metadata": {},
   "source": [
    "Let's say we decide that in our grocery list, we want to replace an item. In my grocery list, I have `apples, cookies, milk`. Instead of apples, I want M&Ms! We can use a statement similar to the one we used for variables to do this!"
   ]
  },
  {
   "cell_type": "code",
   "execution_count": null,
   "metadata": {},
   "outputs": [],
   "source": [
    "groceryList[0] = 'M&Ms'"
   ]
  },
  {
   "cell_type": "markdown",
   "metadata": {},
   "source": [
    "Can you print out the variable `groceryList` and see what my grocery list contains?"
   ]
  },
  {
   "cell_type": "markdown",
   "metadata": {},
   "source": [
    "Now let's say, in the way over to the grocery store, I remember another item I want to add to my list, cereal! We do this using the `append` function. What's a function?"
   ]
  },
  {
   "cell_type": "markdown",
   "metadata": {},
   "source": [
    "### Aside: Functions 🎰\n",
    "\n",
    "Let's think about a function as a machine! The machine takes something in and spits something out. In programming, the \"machine\" is a chunk of code. \n",
    "\n",
    "<br> Let's think of a real-world example. Let's imagine that we have a pie-making machine! It takes as input an apple, and spits out a pie! Inside, the pie-making machine might chop and cook the apple, and do a lot of other things: 🍏--> 🎰--> 🥧.\n",
    "\n",
    "Similarly, in Python programming, we have functions that take an input, do something to it, and spit out something else!\n",
    "\n",
    "Can you think of some other examples of functions?"
   ]
  },
  {
   "cell_type": "markdown",
   "metadata": {},
   "source": [
    "The `append` function for lists takes a value to add to a list!"
   ]
  },
  {
   "cell_type": "code",
   "execution_count": null,
   "metadata": {},
   "outputs": [],
   "source": [
    "groceryList.append('cereal')"
   ]
  },
  {
   "cell_type": "markdown",
   "metadata": {},
   "source": [
    "Now, print out `groceryList`! What do you think the output will be?!"
   ]
  },
  {
   "cell_type": "code",
   "execution_count": null,
   "metadata": {},
   "outputs": [],
   "source": []
  },
  {
   "cell_type": "markdown",
   "metadata": {},
   "source": [
    "Add your own item to my `groceryList`!"
   ]
  },
  {
   "cell_type": "code",
   "execution_count": null,
   "metadata": {},
   "outputs": [],
   "source": []
  },
  {
   "cell_type": "markdown",
   "metadata": {},
   "source": [
    "Let's say, I decide I don't want cereal anymore. I can use the `remove` function to remove an item from my list! The `remove` function takes a value to remove from my list!"
   ]
  },
  {
   "cell_type": "code",
   "execution_count": null,
   "metadata": {},
   "outputs": [],
   "source": [
    "groceryList.remove('cereal')"
   ]
  },
  {
   "cell_type": "markdown",
   "metadata": {},
   "source": [
    "Now, print out `groceryList`! What do you think the output will be?!"
   ]
  },
  {
   "cell_type": "code",
   "execution_count": null,
   "metadata": {},
   "outputs": [],
   "source": []
  },
  {
   "cell_type": "markdown",
   "metadata": {},
   "source": [
    "Remove another item from my grocery list!"
   ]
  },
  {
   "cell_type": "code",
   "execution_count": null,
   "metadata": {},
   "outputs": [],
   "source": []
  },
  {
   "cell_type": "markdown",
   "metadata": {},
   "source": [
    "Let's say I'm going to the grocery store with you. I've made a grocery list, and you've made a grocery list too. It is too hard to look at two different grocery lists, so we want to combine both lists into 1! We can add lists together to create 1 big list!\n",
    "\n",
    "Can you add your list and my list together? Store this in a variable called `both_lists`, and print out the value of the variable!"
   ]
  },
  {
   "cell_type": "code",
   "execution_count": null,
   "metadata": {},
   "outputs": [],
   "source": []
  },
  {
   "cell_type": "markdown",
   "metadata": {},
   "source": [
    "Great job! You learned the basics of lists! 🎤drop!"
   ]
  },
  {
   "cell_type": "code",
   "execution_count": null,
   "metadata": {},
   "outputs": [],
   "source": []
  },
  {
   "cell_type": "markdown",
   "metadata": {},
   "source": [
    "🍊Create a scenario (cater it to your mentee's interests) that you can model with a list. It should involve adding and removing to a list, and seeing the state of the list after each operation."
   ]
  },
  {
   "cell_type": "code",
   "execution_count": null,
   "metadata": {},
   "outputs": [],
   "source": []
  },
  {
   "cell_type": "code",
   "execution_count": null,
   "metadata": {},
   "outputs": [],
   "source": []
  },
  {
   "cell_type": "markdown",
   "metadata": {},
   "source": [
    "Let's check if a certain item is in our grocery list! Let's say my friend asks me whether you have `cookies` in my grocery list. I can do this by using `in`. "
   ]
  },
  {
   "cell_type": "code",
   "execution_count": null,
   "metadata": {},
   "outputs": [],
   "source": [
    "'cookies' in groceryList"
   ]
  },
  {
   "cell_type": "markdown",
   "metadata": {},
   "source": [
    "Wow! The computer checked whether I had the string `cookies` in my `groceryList`! Can you write some code to check if you have `cookies` in your grocery list?"
   ]
  },
  {
   "cell_type": "code",
   "execution_count": null,
   "metadata": {},
   "outputs": [],
   "source": []
  },
  {
   "cell_type": "code",
   "execution_count": null,
   "metadata": {},
   "outputs": [],
   "source": []
  },
  {
   "cell_type": "markdown",
   "metadata": {},
   "source": [
    "## Part 5: Asking Questions! (also known as `if/else` statements) 🤔❓"
   ]
  },
  {
   "cell_type": "markdown",
   "metadata": {},
   "source": [
    "When we program, we sometimes ask ourselves lots of questions! For example, we might ask ourselves, \"Did I have cookies in my grocery list?\", or \"Is my friend older than 10?\". \n",
    "\n",
    "\n",
    "🍊`conditions`: These kinds of questions are called conditions in programming. \n",
    "\n",
    "We use conditions to write `if statements`."
   ]
  },
  {
   "cell_type": "markdown",
   "metadata": {},
   "source": [
    "Let's start off simple! Create a variable called `age`, and put your age as the value."
   ]
  },
  {
   "cell_type": "code",
   "execution_count": null,
   "metadata": {},
   "outputs": [],
   "source": []
  },
  {
   "cell_type": "markdown",
   "metadata": {},
   "source": [
    "To write an if statement, we use the command `if`, followed by a condition statement. "
   ]
  },
  {
   "cell_type": "markdown",
   "metadata": {},
   "source": [
    "### Aside: Operators (alligator mouth! 🐊)"
   ]
  },
  {
   "cell_type": "markdown",
   "metadata": {},
   "source": [
    "🍊Check if your kid has been introduced to less than, greater than notation in school. If not, introduce `>`, and `<` via the alligator mouth analogy. The alligator mouth always wants to eat the bigger number.\n",
    "\n",
    "In Python, we often compare things! We have lots of ways to compare things.\n",
    "\n",
    "1) `<`: Less than <br>\n",
    "2) `>`: Greater than <br>\n",
    "3) `==`: Equal to <br>\n",
    "4) `!=`: Not equal to <br>\n",
    "5) `<=`: Less than or equal to <br>\n",
    "6) `>=`: Greater than or equal to<br>\n",
    "\n",
    "Play around with these comparisons! Change these values, or add your own!"
   ]
  },
  {
   "cell_type": "code",
   "execution_count": null,
   "metadata": {},
   "outputs": [],
   "source": [
    "5 > 10"
   ]
  },
  {
   "cell_type": "code",
   "execution_count": null,
   "metadata": {},
   "outputs": [],
   "source": [
    "10 < 20"
   ]
  },
  {
   "cell_type": "code",
   "execution_count": null,
   "metadata": {
    "scrolled": true
   },
   "outputs": [],
   "source": [
    "10 == 20"
   ]
  },
  {
   "cell_type": "code",
   "execution_count": null,
   "metadata": {},
   "outputs": [],
   "source": [
    "5 <= 6"
   ]
  },
  {
   "cell_type": "markdown",
   "metadata": {},
   "source": [
    "We use less than, greater than, and equal to signs in if statement conditions all the time! Run the piece of code below to check if your age is less than 5. What do you think is going to happen?"
   ]
  },
  {
   "cell_type": "code",
   "execution_count": null,
   "metadata": {
    "scrolled": true
   },
   "outputs": [],
   "source": [
    "age < 5"
   ]
  },
  {
   "cell_type": "markdown",
   "metadata": {},
   "source": [
    "🍊__Behind the scenes, the computer is going into the `age` variable's box, checking what the number is, and comparing it to the number 5!__\n",
    "\n",
    "What we wrote above (`age < 5`), is called a `condition`. "
   ]
  },
  {
   "cell_type": "markdown",
   "metadata": {},
   "source": [
    "### Conditions and Consequences\n",
    "\n",
    "We can think of if statements in terms of conditions and consequences. For example, if you finish your dinner, your parents might give you dessert. If you don't finish your dinner, you won't get dessert! \n",
    "\n",
    "Another example: if you're older than 15, you are old enough to drive! If you are 15 or younger, you don't get to.\n",
    "\n",
    "🐣Let's combine conditions and consequences to write an if statement! Run the piece of code below.\n",
    "\n",
    "An if statement is made up of the `if` keyword, followed by a condition and a colon (`:`), as in `if age < 15:`"
   ]
  },
  {
   "cell_type": "code",
   "execution_count": null,
   "metadata": {},
   "outputs": [],
   "source": [
    "if age < 15:\n",
    "    print(\"You're not old enough to drive!\")"
   ]
  },
  {
   "cell_type": "markdown",
   "metadata": {},
   "source": [
    "### Aside: Booleans 👻\n",
    "\n",
    "In programming, just like we have numbers, lists, and strings, we also have booleans! Booleans are either `True` or `False` values. \n",
    "\n",
    "For example, the statement `5 < 10` prints out `True`. This is a boolean!"
   ]
  },
  {
   "cell_type": "code",
   "execution_count": null,
   "metadata": {},
   "outputs": [],
   "source": [
    "5 < 10"
   ]
  },
  {
   "cell_type": "code",
   "execution_count": null,
   "metadata": {},
   "outputs": [],
   "source": [
    "5 == 5"
   ]
  },
  {
   "cell_type": "code",
   "execution_count": null,
   "metadata": {},
   "outputs": [],
   "source": [
    "10 > 100"
   ]
  },
  {
   "cell_type": "markdown",
   "metadata": {},
   "source": [
    "When we have an if statement, we can figure out the result of the condition. The result of the condition will be a `boolean`! If the result is the boolean value `True`, the computer will run the piece of code directly below."
   ]
  },
  {
   "cell_type": "code",
   "execution_count": null,
   "metadata": {},
   "outputs": [],
   "source": [
    "if age > 20:\n",
    "    print(\"Hello I am older than 20!\")"
   ]
  },
  {
   "cell_type": "markdown",
   "metadata": {},
   "source": [
    "Why didn't this print `Hello am I older than 20!`?\n",
    "\n",
    "In the case above, the variable age did not have a value greater than 20 -- the condition resulted in the boolean value `False`, so the code below was not run!"
   ]
  },
  {
   "cell_type": "markdown",
   "metadata": {},
   "source": [
    "Let's write an if-statement that will print something out!"
   ]
  },
  {
   "cell_type": "code",
   "execution_count": null,
   "metadata": {},
   "outputs": [],
   "source": [
    "if age > 5: \n",
    "    print(\"Hello, I am older than 5!\")"
   ]
  },
  {
   "cell_type": "markdown",
   "metadata": {},
   "source": [
    "The code should have run and printed! "
   ]
  },
  {
   "cell_type": "markdown",
   "metadata": {},
   "source": [
    "### Quick word problem! 👭👫"
   ]
  },
  {
   "cell_type": "markdown",
   "metadata": {},
   "source": [
    "Create a variable named `friends`, and have it store a list of your friends names as strings."
   ]
  },
  {
   "cell_type": "code",
   "execution_count": null,
   "metadata": {},
   "outputs": [],
   "source": []
  },
  {
   "cell_type": "markdown",
   "metadata": {},
   "source": [
    "Can you write a simple if statement to check whether the name `Bob` is in your list of friends?"
   ]
  },
  {
   "cell_type": "code",
   "execution_count": null,
   "metadata": {},
   "outputs": [],
   "source": []
  },
  {
   "cell_type": "markdown",
   "metadata": {},
   "source": [
    "## If-Else 🍪\n",
    "\n",
    "So far, we've only been looking at what happens when a condition is `True`. We can also write other types of statements to run when a condition is `False`. For example, we might print one message to the screen if your age is 10 and another if it’s not.\n",
    "\n",
    "We use `else` statements, to run code when a statement doesn't meet the if condition.\n",
    "\n",
    "🍊Work with your mentee to understand the block of code below. Talk through each step, from assigning the variable, to walking through the if and else conditions. Before running the code, always ask your mentee what they think will happen."
   ]
  },
  {
   "cell_type": "code",
   "execution_count": null,
   "metadata": {},
   "outputs": [],
   "source": [
    "number_of_cookies = 10\n",
    "\n",
    "if number_of_cookies == 10:\n",
    "    print(\"I have 10 cookies!\")\n",
    "else:\n",
    "    print(\"I don't have 10 cookies 😢\")"
   ]
  },
  {
   "cell_type": "markdown",
   "metadata": {},
   "source": [
    "We have a variable called `number_of_cookies` with the value 10. The if statement checked if the value of the `number_of_cookies` variable was 10. Because it was, the computer printed out `I have 10 cookies`!\n",
    "\n",
    "Now, let's subtract 4 cookies from `number_of_cookies`."
   ]
  },
  {
   "cell_type": "markdown",
   "metadata": {},
   "source": []
  },
  {
   "cell_type": "markdown",
   "metadata": {},
   "source": [
    "When we run the same if-else statement checking for 10 cookies now, what do you think will happen?"
   ]
  },
  {
   "cell_type": "code",
   "execution_count": null,
   "metadata": {},
   "outputs": [],
   "source": [
    "if number_of_cookies == 10:\n",
    "    print(\"I have 10 cookies!\")\n",
    "else:\n",
    "    print(\"I don't have 10 cookies 😢\")"
   ]
  },
  {
   "cell_type": "markdown",
   "metadata": {},
   "source": [
    "Can you write an if-else statement to check if the name `Sarah` is in your friend list? If it is, print the sentence, `I have a friend named Sarah!`. If it isn't, print the sentence `I don't have a friend named Sarah :(`."
   ]
  },
  {
   "cell_type": "code",
   "execution_count": null,
   "metadata": {},
   "outputs": [],
   "source": []
  },
  {
   "cell_type": "markdown",
   "metadata": {},
   "source": [
    "### If-Elif-Else Statements 🍋\n",
    "\n",
    "In all the examples above, we only had 2 options. Either the if condition was met and a piece of code ran, or the if condition wasn't met, in which case the code under the `else` statement ran.\n",
    "\n",
    "What if we have multiple conditions that we want to check?\n",
    "\n",
    "Imagine that I have a lemonade stand. At my lemonade stand, if you pay me 2 dollars, I will give you 2 cups of lemonade. If you pay me 4 dollars, I will give you 10 cups of lemonade. If you pay me anything else, I will give you nothing.\n",
    "\n",
    "Right now, with only if-else statements, we don't have a clear way to handle this! Enter the `elif` statement!"
   ]
  },
  {
   "cell_type": "markdown",
   "metadata": {},
   "source": [
    "Create a variable called `money` with the value 4."
   ]
  },
  {
   "cell_type": "code",
   "execution_count": null,
   "metadata": {},
   "outputs": [],
   "source": []
  },
  {
   "cell_type": "markdown",
   "metadata": {},
   "source": [
    "Can you write a simple if-statement to check if `money` has a value 4? If it does, print \"I have 4 dollars\", and if it doesn't, print \"I don't have 4 dollars\"."
   ]
  },
  {
   "cell_type": "code",
   "execution_count": null,
   "metadata": {},
   "outputs": [],
   "source": []
  },
  {
   "cell_type": "markdown",
   "metadata": {},
   "source": [
    "Let's start building our if-elif-else statement.\n",
    "\n",
    "🍊Walk your mentee through this statement -- it can be rather complex."
   ]
  },
  {
   "cell_type": "code",
   "execution_count": null,
   "metadata": {},
   "outputs": [],
   "source": [
    "if money == 2:\n",
    "    print(\"You get 2 cups of lemonade 🍋\")\n",
    "elif money == 4:\n",
    "    print(\"You get 10 cups of lemonade 🍋\")\n",
    "else:\n",
    "    print(\"Sorry, you get nothing\")"
   ]
  },
  {
   "cell_type": "markdown",
   "metadata": {},
   "source": [
    "Congratulations!! You have learned the basics of if-elif-else statements! 🙌🎉"
   ]
  },
  {
   "cell_type": "markdown",
   "metadata": {},
   "source": [
    "## Part 5: Let's get loopy! ➰↺ ↻ \n",
    "\n",
    "We don't normally like to repeat ourselves! It can get annoying to type the same thing over and over again. Luckily, we have something called a `for` loop to help us!\n",
    "\n",
    "Remember our list of friends from above? What if we wanted to go through the list and print out every single friend?\n",
    "We *could* print out the first name, then the second, all using the `[]`. Go ahead and try that below!"
   ]
  },
  {
   "cell_type": "code",
   "execution_count": null,
   "metadata": {},
   "outputs": [],
   "source": []
  },
  {
   "cell_type": "markdown",
   "metadata": {},
   "source": [
    "That was annoying! Instead, we could use something called a `for` loop!\n",
    "\n",
    "A `for` loop allows us to repeat a piece of code as many times as we want! A for loop looks something like the code below. Before running the piece of code, talk about what you think it might print out!"
   ]
  },
  {
   "cell_type": "code",
   "execution_count": null,
   "metadata": {},
   "outputs": [],
   "source": [
    "for name in friends:\n",
    "    print(name)"
   ]
  },
  {
   "cell_type": "markdown",
   "metadata": {},
   "source": [
    "`friends` is our list that we are looping over, and name is another variable. If we were looping over the list `[Bob, Sarah, Maddie]`, then the `name` variable (our box 📦) would first have the value `Bob`, then `Sarah`, then `Maddie`.\n",
    "\n",
    "🍊Whip out a pen and pencil, and draw the `name` variable as a box, and practice iterating through the list. The for loop is essentially saying, “For each value in `friend` list, store the value in the variable `name`, and then print the contents of that variable.” "
   ]
  },
  {
   "cell_type": "markdown",
   "metadata": {},
   "source": [
    "### Aside: Range Function 🏁\n",
    "\n",
    "Remember what a function was? If not, go back and review!\n",
    "\n",
    "The range function takes 2 numbers, and gives us a list of every number between those 2 numbers! Try it out below:"
   ]
  },
  {
   "cell_type": "code",
   "execution_count": null,
   "metadata": {},
   "outputs": [],
   "source": [
    "list(range(0, 10))"
   ]
  },
  {
   "cell_type": "markdown",
   "metadata": {},
   "source": [
    "`range` takes 2 numbers, and gives a list of numbers in between (not including the last number!)"
   ]
  },
  {
   "cell_type": "markdown",
   "metadata": {},
   "source": [
    "Experiment a little more with different inputs to the `range function below!"
   ]
  },
  {
   "cell_type": "code",
   "execution_count": null,
   "metadata": {},
   "outputs": [],
   "source": []
  },
  {
   "cell_type": "markdown",
   "metadata": {},
   "source": [
    "We can use the numbers in the list above to keep track of how many times we've done something! Remember how we wanted to print the word `duck` five times. Do this without a for loop below."
   ]
  },
  {
   "cell_type": "code",
   "execution_count": null,
   "metadata": {},
   "outputs": [],
   "source": []
  },
  {
   "cell_type": "markdown",
   "metadata": {},
   "source": [
    "Phew 😪, that was really annoying, and a lot of typing! How can we make our lives a little easier using for loops, and the `range` function? Given what you've learned about for loops, and the `range` function, what do you think the following code is going to print out?\n",
    "\n",
    "🍊Walk through each component of the for loop with your mentee."
   ]
  },
  {
   "cell_type": "code",
   "execution_count": null,
   "metadata": {
    "scrolled": true
   },
   "outputs": [],
   "source": [
    "for number in range(0, 5):\n",
    "    print(\"duck\")"
   ]
  },
  {
   "cell_type": "markdown",
   "metadata": {},
   "source": [
    "We can use for loops to change the contents of a variable! \n",
    "\n",
    "Let's one day after school, you check out 4 books from your library! Create a new variable named `numberOfBooks` and give it a value of 4."
   ]
  },
  {
   "cell_type": "code",
   "execution_count": null,
   "metadata": {},
   "outputs": [],
   "source": []
  },
  {
   "cell_type": "markdown",
   "metadata": {},
   "source": [
    "Let's say, for the next four days, every day, you go back to the library and check out 1 more book. How would you write code (without a `for` loop first!) to show this?"
   ]
  },
  {
   "cell_type": "code",
   "execution_count": null,
   "metadata": {},
   "outputs": [],
   "source": []
  },
  {
   "cell_type": "markdown",
   "metadata": {},
   "source": [
    "Now, let's use the power of the for loop to make our lives a little easier! Fill in the blanks (shown as ❓) of the for loop."
   ]
  },
  {
   "cell_type": "code",
   "execution_count": null,
   "metadata": {},
   "outputs": [],
   "source": [
    "for ❓in range(❓, ❓):\n",
    "    numberOfBooks = ❓ + ❓"
   ]
  },
  {
   "cell_type": "markdown",
   "metadata": {},
   "source": [
    "What do you think the final value of the `numberOfBooks` variable will be? Print it out!"
   ]
  },
  {
   "cell_type": "code",
   "execution_count": null,
   "metadata": {},
   "outputs": [],
   "source": []
  },
  {
   "cell_type": "markdown",
   "metadata": {},
   "source": [
    "🍊Think of another example using a data structure to loop over (or a repeated computation) with something related to your mentee, and have them code it out!"
   ]
  },
  {
   "cell_type": "code",
   "execution_count": null,
   "metadata": {},
   "outputs": [],
   "source": []
  },
  {
   "cell_type": "code",
   "execution_count": null,
   "metadata": {},
   "outputs": [],
   "source": []
  },
  {
   "cell_type": "markdown",
   "metadata": {},
   "source": [
    "## Still Loopy: While Loops 🎢"
   ]
  },
  {
   "cell_type": "markdown",
   "metadata": {},
   "source": [
    "If we know the number of times we want something to happen, we might use a for loop! But...what if we want to keep looping until a particular condition is met? If you don't remember what a `condition` is, take the time to go back and review what it was (from the if statement section).\n",
    "\n",
    "\n",
    "How does a while loop work? <br>\n",
    "1) Check the condition <br>\n",
    "2) Run the snippet of code in the loop <br>\n",
    "3) Repeat. <br>\n",
    "\n",
    "Let's see this in action! 🎬"
   ]
  },
  {
   "cell_type": "markdown",
   "metadata": {},
   "source": [
    "Create a variable called `stop`. Give it the value 5."
   ]
  },
  {
   "cell_type": "code",
   "execution_count": null,
   "metadata": {},
   "outputs": [],
   "source": []
  },
  {
   "cell_type": "markdown",
   "metadata": {},
   "source": [
    "Create another variable, call it `counter`. Give it the value 1."
   ]
  },
  {
   "cell_type": "code",
   "execution_count": null,
   "metadata": {},
   "outputs": [],
   "source": []
  },
  {
   "cell_type": "markdown",
   "metadata": {},
   "source": [
    "We are going to print out the sentence \"Keep going!\" until, counter is equal to 5! Similar to how we formed conditions in if-statements, can you think of a condition to capture this? Fill in the while loop below with this condition, as well as the print statement!"
   ]
  },
  {
   "cell_type": "code",
   "execution_count": null,
   "metadata": {},
   "outputs": [],
   "source": [
    "while ❓:\n",
    "    ❓"
   ]
  },
  {
   "cell_type": "markdown",
   "metadata": {},
   "source": [
    "🍊Think of another example using a Python data structure and a while loop, and have your mentee come up with the condition and the code to run."
   ]
  },
  {
   "cell_type": "code",
   "execution_count": null,
   "metadata": {},
   "outputs": [],
   "source": []
  },
  {
   "cell_type": "code",
   "execution_count": null,
   "metadata": {},
   "outputs": [],
   "source": []
  },
  {
   "cell_type": "code",
   "execution_count": null,
   "metadata": {},
   "outputs": [],
   "source": []
  },
  {
   "cell_type": "markdown",
   "metadata": {},
   "source": [
    "### Congratulations, you've reached the end of the Python Playground! 🎉🙌 You are ready to build your own game!"
   ]
  },
  {
   "cell_type": "code",
   "execution_count": null,
   "metadata": {},
   "outputs": [],
   "source": []
  }
 ],
 "metadata": {
  "kernelspec": {
   "display_name": "Python 3",
   "language": "python",
   "name": "python3"
  },
  "language_info": {
   "codemirror_mode": {
    "name": "ipython",
    "version": 3
   },
   "file_extension": ".py",
   "mimetype": "text/x-python",
   "name": "python",
   "nbconvert_exporter": "python",
   "pygments_lexer": "ipython3",
   "version": "3.7.3"
  }
 },
 "nbformat": 4,
 "nbformat_minor": 2
}
