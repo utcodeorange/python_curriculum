{
 "cells": [
  {
   "cell_type": "markdown",
   "metadata": {},
   "source": [
    "# Welcome to the Python Playground! 🐍\n",
    "\n",
    "\n",
    "This notebook is meant to introduce concepts, and provide a foundation for Code Orange mentees ready to move on from Scratch! This is by no means meant to be an exhaustive source of foundation material, just a starting point! We will introduce several concepts. Markdown cells marked with a `🍊` contain content to be read and explained by the mentor, while cells marked with a `🐣` are meant to be completed by the mentee!"
   ]
  },
  {
   "cell_type": "markdown",
   "metadata": {},
   "source": [
    "## Part 1: Printing 🖨\n",
    "\n",
    "\"The computer won't do something unless we tell it to!\"\n",
    "\n",
    "🍊`Programming Language`: A language is something we use to talk to our friends and family, and allows us to communicate! We want to talk to the computer to tell it what we want it to do in a way that the computer understands. We call this a `programming language`. \n",
    "\n",
    "\n",
    "🍊A `statement` is a way for us to tell the computer to do something! \n",
    "\n",
    "\n",
    "🐣 Let's start by telling the computer to say something to us. We can do this by using a `print` statement. We can run our snippet of code by pressing the `Run` button (similar to Scratch's green play button)."
   ]
  },
  {
   "cell_type": "code",
   "execution_count": 5,
   "metadata": {},
   "outputs": [
    {
     "name": "stdout",
     "output_type": "stream",
     "text": [
      "Hello world! 🌎\n"
     ]
    }
   ],
   "source": [
    "print(\"Hello world! 🌎\")"
   ]
  },
  {
   "cell_type": "markdown",
   "metadata": {},
   "source": [
    "🐣Whoa! What just happened? We told the computer to print something, and it did! Great job! Let's keep going! Type in whatever you want the computer to say below. Play around a little bit with this :) "
   ]
  },
  {
   "cell_type": "code",
   "execution_count": 4,
   "metadata": {},
   "outputs": [
    {
     "name": "stdout",
     "output_type": "stream",
     "text": [
      " \n"
     ]
    }
   ],
   "source": [
    "print(\" \")"
   ]
  },
  {
   "cell_type": "markdown",
   "metadata": {},
   "source": [
    "## Part 2: Calculator! 🔢"
   ]
  },
  {
   "cell_type": "markdown",
   "metadata": {},
   "source": [
    "🐣In school, your teachers may tell you to do multiplication tables, or find the sum of 2 numbers. What if we could write code to do this for us?? Let's do this!"
   ]
  },
  {
   "cell_type": "markdown",
   "metadata": {},
   "source": [
    "We can use the `+` sign to add numbers together, the `-` sign for subtraction, the `*` sign for multiplication, and the `/` sign for division."
   ]
  },
  {
   "cell_type": "code",
   "execution_count": 11,
   "metadata": {},
   "outputs": [
    {
     "data": {
      "text/plain": [
       "7"
      ]
     },
     "execution_count": 11,
     "metadata": {},
     "output_type": "execute_result"
    }
   ],
   "source": [
    "3 + 4"
   ]
  },
  {
   "cell_type": "code",
   "execution_count": 12,
   "metadata": {},
   "outputs": [
    {
     "data": {
      "text/plain": [
       "93"
      ]
     },
     "execution_count": 12,
     "metadata": {},
     "output_type": "execute_result"
    }
   ],
   "source": [
    "103 - 10"
   ]
  },
  {
   "cell_type": "code",
   "execution_count": 9,
   "metadata": {},
   "outputs": [
    {
     "data": {
      "text/plain": [
       "5.0"
      ]
     },
     "execution_count": 9,
     "metadata": {},
     "output_type": "execute_result"
    }
   ],
   "source": [
    "10 * 2"
   ]
  },
  {
   "cell_type": "markdown",
   "metadata": {},
   "source": [
    "### Word Problem 🍏🍎\n",
    "\n",
    "🍊Use Python operators to solve a simple word problem.\n",
    "\n",
    "🐣Let me tell you a story. Let's say I have 60 apples. My friend asks me for 47, so I give her 47 apples. After a few days, I see 24 more apples grow. How many apples do I have now? Write some code."
   ]
  },
  {
   "cell_type": "code",
   "execution_count": null,
   "metadata": {},
   "outputs": [],
   "source": []
  },
  {
   "cell_type": "markdown",
   "metadata": {},
   "source": [
    "Congratulations! 🎉We have learned how to do 2 things so far: tell the computer to say something with `print` statements, and have the computer do math for us. Onward!"
   ]
  },
  {
   "cell_type": "markdown",
   "metadata": {},
   "source": [
    "## Part 3: Variables 🗂"
   ]
  },
  {
   "cell_type": "markdown",
   "metadata": {},
   "source": [
    "🍊A variable is a box. We can put something in the box, and we can take something out of the box. We use variables as places to store information, things like sentences, numbers, and much more! Another way to think about a variable is that it is like a label for something. We can give almost any name for to variable! For this section, take out a piece of paper, and draw a box for each variable. \"Put\" numbers in and erase numbers to represent variables."
   ]
  },
  {
   "cell_type": "markdown",
   "metadata": {},
   "source": [
    "🐣Let's create our first variable named `foo`. To put something in our variable (our box), we use the `=` sign, and then tell the computer what the variable should be the label for."
   ]
  },
  {
   "cell_type": "code",
   "execution_count": 15,
   "metadata": {},
   "outputs": [],
   "source": [
    "foo = 5"
   ]
  },
  {
   "cell_type": "markdown",
   "metadata": {},
   "source": [
    "Once we run the piece of code above, we will have a variable called `foo` that contains the number 5! How can we check that the variable (\"box\") `foo` contains `5`?"
   ]
  },
  {
   "cell_type": "markdown",
   "metadata": {},
   "source": [
    "🐣Remember we learned about `print` statements before? We can tell the computer to `print` almost anything! Let's ask the computer to `print` out what our variable `foo` has. How do you think we can do that?"
   ]
  },
  {
   "cell_type": "code",
   "execution_count": null,
   "metadata": {},
   "outputs": [],
   "source": []
  },
  {
   "cell_type": "markdown",
   "metadata": {},
   "source": [
    "🐣 Let's change what we put in our variable \"box\"! Instead of the number 5, let's put the number 100."
   ]
  },
  {
   "cell_type": "code",
   "execution_count": null,
   "metadata": {},
   "outputs": [],
   "source": []
  },
  {
   "cell_type": "markdown",
   "metadata": {},
   "source": [
    "##### Congratulations! You now know how to create variables. 🎉"
   ]
  },
  {
   "cell_type": "markdown",
   "metadata": {},
   "source": [
    "🐣Can we put what we learned about math and variables together? Let's go back to our apples question. Can you create a variable called `apples` and have it contain the number `60`?"
   ]
  },
  {
   "cell_type": "code",
   "execution_count": null,
   "metadata": {},
   "outputs": [],
   "source": []
  },
  {
   "cell_type": "markdown",
   "metadata": {},
   "source": [
    "Great! Let's check the number of apples in our `apples` variable. The `print` statement should print out 60!"
   ]
  },
  {
   "cell_type": "code",
   "execution_count": 16,
   "metadata": {},
   "outputs": [
    {
     "ename": "NameError",
     "evalue": "name 'apples' is not defined",
     "output_type": "error",
     "traceback": [
      "\u001b[0;31m---------------------------------------------------------------------------\u001b[0m",
      "\u001b[0;31mNameError\u001b[0m                                 Traceback (most recent call last)",
      "\u001b[0;32m<ipython-input-16-e75fa823cb35>\u001b[0m in \u001b[0;36m<module>\u001b[0;34m\u001b[0m\n\u001b[0;32m----> 1\u001b[0;31m \u001b[0mprint\u001b[0m\u001b[0;34m(\u001b[0m\u001b[0mapples\u001b[0m\u001b[0;34m)\u001b[0m\u001b[0;34m\u001b[0m\u001b[0;34m\u001b[0m\u001b[0m\n\u001b[0m",
      "\u001b[0;31mNameError\u001b[0m: name 'apples' is not defined"
     ]
    }
   ],
   "source": [
    "print(apples)"
   ]
  },
  {
   "cell_type": "markdown",
   "metadata": {},
   "source": [
    "We can do math with variables too! In the statement `foo = foo + 4`, the computer first looks at the right hand side of the `=` sign. When the computer first sees the variable `foo`, and it will go check the number inside the `foo` variable and take it out of the variable (box). It will then add `4` to that number, and then place the new value back inside of the variable box `foo`! \n",
    "\n",
    "Let's see this in action!"
   ]
  },
  {
   "cell_type": "code",
   "execution_count": null,
   "metadata": {},
   "outputs": [],
   "source": [
    "foo = 10\n",
    "foo = foo + 5\n",
    "# What do you think the computer will print?\n",
    "print(foo)"
   ]
  },
  {
   "cell_type": "markdown",
   "metadata": {},
   "source": [
    "🍊Write a series of assignment/arithmetic statements with the variable `apples` to model the word problem above. Then, print the final value of `apples`. "
   ]
  },
  {
   "cell_type": "code",
   "execution_count": null,
   "metadata": {},
   "outputs": [],
   "source": []
  },
  {
   "cell_type": "markdown",
   "metadata": {},
   "source": [
    "## More math with variables! 🍪🥧"
   ]
  },
  {
   "cell_type": "markdown",
   "metadata": {},
   "source": [
    "Who doesn't like cookies?! Let's play around more with variables, and cookies 😋"
   ]
  },
  {
   "cell_type": "markdown",
   "metadata": {},
   "source": [
    "🐣 Let's say I buy 4 cookies from the grocery store. Create a variable called `cookies` and have it contain the number `4`. Write a print statement to check the variable value!"
   ]
  },
  {
   "cell_type": "code",
   "execution_count": null,
   "metadata": {},
   "outputs": [],
   "source": []
  },
  {
   "cell_type": "code",
   "execution_count": null,
   "metadata": {},
   "outputs": [],
   "source": []
  },
  {
   "cell_type": "markdown",
   "metadata": {},
   "source": [
    "🐣I got extra hungry, and went back and bought 6 pies from the grocery store too! Create a variables called `pies` and have it contain the number `6`."
   ]
  },
  {
   "cell_type": "code",
   "execution_count": null,
   "metadata": {},
   "outputs": [],
   "source": []
  },
  {
   "cell_type": "markdown",
   "metadata": {},
   "source": [
    "How can I use my two variables `cookies` and `pies` to print how many desserts I have total? Write code!"
   ]
  },
  {
   "cell_type": "code",
   "execution_count": null,
   "metadata": {},
   "outputs": [],
   "source": []
  },
  {
   "cell_type": "markdown",
   "metadata": {},
   "source": [
    "## Aside: Strings 🧵"
   ]
  },
  {
   "cell_type": "markdown",
   "metadata": {},
   "source": [
    "🍊Just like numbers, we can also have words and sentences in our code! We call these pieces of text `strings`.\n",
    "<br> 🐣You can think of a string as a bunch of letters, the term makes sense."
   ]
  },
  {
   "cell_type": "markdown",
   "metadata": {},
   "source": [
    "We wrap any piece of text in quotation marks (`''`) to make a `string`! In fact, when we practiced printing `Hello world!`, we were printing a `string`!"
   ]
  },
  {
   "cell_type": "code",
   "execution_count": 20,
   "metadata": {},
   "outputs": [
    {
     "name": "stdout",
     "output_type": "stream",
     "text": [
      "Hello again, world!\n"
     ]
    }
   ],
   "source": [
    "print(\"Hello again, world!\")"
   ]
  },
  {
   "cell_type": "markdown",
   "metadata": {},
   "source": [
    "Can you create a variable called `myName`, and have it contain a string with your name?"
   ]
  },
  {
   "cell_type": "code",
   "execution_count": null,
   "metadata": {},
   "outputs": [],
   "source": []
  },
  {
   "cell_type": "markdown",
   "metadata": {},
   "source": [
    "## Part 4: Lists 📝"
   ]
  },
  {
   "cell_type": "markdown",
   "metadata": {},
   "source": [
    "🍊Imagine writing down a list of foods before going to the grocery store! We can create and store lists with Python too! We can create a list of `strings` using `[]` separated by `,`. In the piece of code below, we have stored a grocery list into a variable `groceryList`.\n",
    "\n",
    "We can store almost anything a list! Numbers, strings, etc."
   ]
  },
  {
   "cell_type": "code",
   "execution_count": 19,
   "metadata": {},
   "outputs": [],
   "source": [
    "groceryList = ['apples', 'cookies', 'milk']"
   ]
  },
  {
   "cell_type": "code",
   "execution_count": null,
   "metadata": {},
   "outputs": [],
   "source": [
    "print(groceryList)"
   ]
  },
  {
   "cell_type": "markdown",
   "metadata": {},
   "source": [
    "Create your own grocery list with __5 items__, and store it in a variable."
   ]
  },
  {
   "cell_type": "code",
   "execution_count": null,
   "metadata": {},
   "outputs": [],
   "source": []
  },
  {
   "cell_type": "markdown",
   "metadata": {},
   "source": [
    "Let's say someone asked us the question, \"Hey! Could you tell me the first item on your grocery list?\". How would you answer them?\n",
    "\n",
    "Let's learn how to figure this out with code!"
   ]
  },
  {
   "cell_type": "markdown",
   "metadata": {},
   "source": [
    "We can use `[` and `]` with a number in between next to the name of our list. For example, `groceryList[1]`.\n",
    "\n",
    "Let's try printing the first item on our grocery list! Fill in the `❓` with a number. What do you think this will print?"
   ]
  },
  {
   "cell_type": "code",
   "execution_count": null,
   "metadata": {
    "scrolled": true
   },
   "outputs": [],
   "source": [
    "print(groceryList[❓])"
   ]
  },
  {
   "cell_type": "markdown",
   "metadata": {},
   "source": [
    "Huh 🤔?! Why didn't this print the first item of the list? Python is a little weird! It starts counting from the number 0 instead of 1."
   ]
  },
  {
   "cell_type": "markdown",
   "metadata": {},
   "source": [
    "With this in mind, can you print the first item on your grocery list?"
   ]
  },
  {
   "cell_type": "code",
   "execution_count": null,
   "metadata": {},
   "outputs": [],
   "source": []
  },
  {
   "cell_type": "markdown",
   "metadata": {},
   "source": [
    "Let's say we decide that in our grocery list, we want to replace an item. In my grocery list, I have `apples, cookies, milk`. Instead of apples, I want M&Ms! We can use a statement similar to the one we used for variables to do this!"
   ]
  },
  {
   "cell_type": "code",
   "execution_count": 24,
   "metadata": {},
   "outputs": [],
   "source": [
    "groceryList[0] = 'M&Ms'"
   ]
  },
  {
   "cell_type": "markdown",
   "metadata": {},
   "source": [
    "Can you print out the variable `groceryList` and see what my grocery list contains?"
   ]
  },
  {
   "cell_type": "markdown",
   "metadata": {},
   "source": [
    "Now let's say, in the way over to the grocery store, I remember another item I want to add to my list, cereal! We do this using the `append` function. What's a function?"
   ]
  },
  {
   "cell_type": "markdown",
   "metadata": {},
   "source": [
    "### Aside: Functions 🎰\n",
    "\n",
    "Let's think about a function as a machine! The machine takes something in and spits something out. In programming, the \"machine\" is a chunk of code. \n",
    "\n",
    "<br> Let's think of a real-world example. Let's imagine that we have a pie-making machine! It takes as input an apple, and spits out a pie! Inside, the pie-making machine might chop and cook the apple, and do a lot of other things: 🍏--> 🎰--> 🥧.\n",
    "\n",
    "Similarly, in Python programming, we have functions that take an input, do something to it, and spit out something else!\n",
    "\n",
    "Can you think of some other examples of functions?\n",
    "\n",
    "The `append` function for lists takes a value to add to a list!"
   ]
  },
  {
   "cell_type": "code",
   "execution_count": 28,
   "metadata": {},
   "outputs": [],
   "source": [
    "groceryList.append('cereal')"
   ]
  },
  {
   "cell_type": "markdown",
   "metadata": {},
   "source": [
    "Now, print out `groceryList`! What do you think the output will be?!"
   ]
  },
  {
   "cell_type": "code",
   "execution_count": null,
   "metadata": {},
   "outputs": [],
   "source": []
  },
  {
   "cell_type": "markdown",
   "metadata": {},
   "source": [
    "Add your own item to my `groceryList`!"
   ]
  },
  {
   "cell_type": "code",
   "execution_count": null,
   "metadata": {},
   "outputs": [],
   "source": []
  },
  {
   "cell_type": "markdown",
   "metadata": {},
   "source": [
    "Let's say, I decide I don't want cereal anymore. I can use the `remove` function to remove an item from my list!"
   ]
  },
  {
   "cell_type": "code",
   "execution_count": 29,
   "metadata": {},
   "outputs": [],
   "source": [
    "groceryList.remove('cereal')"
   ]
  },
  {
   "cell_type": "markdown",
   "metadata": {},
   "source": [
    "Now, print out `groceryList`! What do you think the output will be?!"
   ]
  },
  {
   "cell_type": "code",
   "execution_count": null,
   "metadata": {},
   "outputs": [],
   "source": []
  },
  {
   "cell_type": "markdown",
   "metadata": {},
   "source": [
    "Remove another item from my grocery list!"
   ]
  },
  {
   "cell_type": "code",
   "execution_count": null,
   "metadata": {},
   "outputs": [],
   "source": []
  },
  {
   "cell_type": "markdown",
   "metadata": {},
   "source": [
    "Let's say I'm going to the grocery store with you. I've made a grocery list, and you've made a grocery list too. It is too hard to look at two different grocery lists, so we want to combine both lists into 1! We can add lists together to create 1 big list!\n",
    "\n",
    "Can you add your list and my list together? Store this in a variable called `both_lists`, and print out the value of the variable!"
   ]
  },
  {
   "cell_type": "code",
   "execution_count": null,
   "metadata": {},
   "outputs": [],
   "source": []
  },
  {
   "cell_type": "markdown",
   "metadata": {},
   "source": [
    "Great job! You learned the basics of lists! 🎤drop!"
   ]
  },
  {
   "cell_type": "code",
   "execution_count": null,
   "metadata": {},
   "outputs": [],
   "source": []
  },
  {
   "cell_type": "markdown",
   "metadata": {},
   "source": [
    "🍊Create a scenario (cater it to your mentee's interests) that you can model with a list. It should involve adding and removing to a list, and seeing the state of the list after each operation."
   ]
  },
  {
   "cell_type": "code",
   "execution_count": null,
   "metadata": {},
   "outputs": [],
   "source": []
  },
  {
   "cell_type": "code",
   "execution_count": null,
   "metadata": {},
   "outputs": [],
   "source": []
  },
  {
   "cell_type": "markdown",
   "metadata": {},
   "source": [
    "Let's check if a certain item is in our grocery list! Let's say my friend asks me whether you have `cookies` in my grocery list. I can do this by using `in`. "
   ]
  },
  {
   "cell_type": "code",
   "execution_count": 31,
   "metadata": {},
   "outputs": [
    {
     "data": {
      "text/plain": [
       "True"
      ]
     },
     "execution_count": 31,
     "metadata": {},
     "output_type": "execute_result"
    }
   ],
   "source": [
    "'cookies' in groceryList"
   ]
  },
  {
   "cell_type": "markdown",
   "metadata": {},
   "source": [
    "Wow! The computer checked whether I had the string `cookies` in my `groceryList`! Can you write some code to check if you have `cookies` in your grocery list?"
   ]
  },
  {
   "cell_type": "code",
   "execution_count": null,
   "metadata": {},
   "outputs": [],
   "source": []
  },
  {
   "cell_type": "code",
   "execution_count": null,
   "metadata": {},
   "outputs": [],
   "source": []
  },
  {
   "cell_type": "markdown",
   "metadata": {},
   "source": [
    "## Part 5: Asking Questions! (also known as `if/else` statements) 🤔❓"
   ]
  },
  {
   "cell_type": "markdown",
   "metadata": {},
   "source": [
    "When we program, we sometimes ask ourselves lots of questions! For example, we might ask ourselves, \"Did I have cookies in my grocery list?\", or \"Is my friend older than 10?\". \n",
    "\n",
    "\n",
    "🍊`conditions`: These kinds of questions are called conditions in programming. \n",
    "\n",
    "We use conditions to write `if statements`."
   ]
  },
  {
   "cell_type": "markdown",
   "metadata": {},
   "source": [
    "Let's start off simple! Create a variable called `age`, and put your age as the value."
   ]
  },
  {
   "cell_type": "code",
   "execution_count": null,
   "metadata": {},
   "outputs": [],
   "source": []
  },
  {
   "cell_type": "markdown",
   "metadata": {},
   "source": [
    "To write an if statement, we use the command `if`, followed by a condition statement. "
   ]
  },
  {
   "cell_type": "markdown",
   "metadata": {},
   "source": [
    "### Aside: Less than, greater than, equal to (alligator mouth! 🐊)"
   ]
  },
  {
   "cell_type": "markdown",
   "metadata": {},
   "source": [
    "🍊Check if your kid has been introduced to less than, greater than notation in school. If not, introduce `>`, and `<` via the alligator mouth analogy. The alligator mouth always wants to eat the bigger number."
   ]
  },
  {
   "cell_type": "code",
   "execution_count": 33,
   "metadata": {},
   "outputs": [
    {
     "data": {
      "text/plain": [
       "False"
      ]
     },
     "execution_count": 33,
     "metadata": {},
     "output_type": "execute_result"
    }
   ],
   "source": [
    "5 > 10"
   ]
  },
  {
   "cell_type": "code",
   "execution_count": 34,
   "metadata": {},
   "outputs": [
    {
     "data": {
      "text/plain": [
       "True"
      ]
     },
     "execution_count": 34,
     "metadata": {},
     "output_type": "execute_result"
    }
   ],
   "source": [
    "10 < 20"
   ]
  },
  {
   "cell_type": "code",
   "execution_count": 35,
   "metadata": {
    "scrolled": true
   },
   "outputs": [
    {
     "data": {
      "text/plain": [
       "False"
      ]
     },
     "execution_count": 35,
     "metadata": {},
     "output_type": "execute_result"
    }
   ],
   "source": [
    "10 == 20"
   ]
  },
  {
   "cell_type": "code",
   "execution_count": 37,
   "metadata": {},
   "outputs": [
    {
     "data": {
      "text/plain": [
       "True"
      ]
     },
     "execution_count": 37,
     "metadata": {},
     "output_type": "execute_result"
    }
   ],
   "source": [
    "5 <= 6"
   ]
  },
  {
   "cell_type": "markdown",
   "metadata": {},
   "source": [
    "We use less than, greater than, and equal to signs in if statement conditions all the time! Run the piece of code below to check if your age is less than 5. What do you think is going to happen?"
   ]
  },
  {
   "cell_type": "code",
   "execution_count": null,
   "metadata": {
    "scrolled": true
   },
   "outputs": [],
   "source": [
    "age < 5"
   ]
  },
  {
   "cell_type": "markdown",
   "metadata": {},
   "source": [
    "🍊__Behind the scenes, the computer is going into the `age` variable's box, checking what the number is, and comparing it to the number 5!__\n",
    "\n",
    "What we wrote above (`age < 5`), is called a `condition`. "
   ]
  },
  {
   "cell_type": "markdown",
   "metadata": {},
   "source": [
    "### Conditions and Consequences\n",
    "\n",
    "We can think of if statements in terms of conditions and consequences. For example, if you finish your dinner, your parents might give you dessert. If you don't finish your dinner, you won't get dessert! \n",
    "\n",
    "Another example: if you're older than 15, you are old enough to drive! If you are 15 or younger, you don't get to."
   ]
  },
  {
   "cell_type": "code",
   "execution_count": null,
   "metadata": {},
   "outputs": [],
   "source": []
  }
 ],
 "metadata": {
  "kernelspec": {
   "display_name": "Python 3",
   "language": "python",
   "name": "python3"
  },
  "language_info": {
   "codemirror_mode": {
    "name": "ipython",
    "version": 3
   },
   "file_extension": ".py",
   "mimetype": "text/x-python",
   "name": "python",
   "nbconvert_exporter": "python",
   "pygments_lexer": "ipython3",
   "version": "3.7.3"
  }
 },
 "nbformat": 4,
 "nbformat_minor": 2
}
