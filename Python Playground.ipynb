{
 "cells": [
  {
   "cell_type": "markdown",
   "metadata": {},
   "source": [
    "# Welcome to the Python Playground! 🐍\n",
    "\n",
    "\n",
    "This notebook is meant to introduce concepts, and provide a foundation for Code Orange mentees ready to move on from Scratch! This is by no means meant to be an exhaustive source of foundation material. We will introduce several concepts. Markdown cells marked with a `🍊` contain content to be read and explained by the mentor, while cells marked with a `🐣` are meant to be completed by the mentee!"
   ]
  },
  {
   "cell_type": "markdown",
   "metadata": {},
   "source": [
    "## Part 1: Printing 🖨\n",
    "\n",
    "\"The computer won't do something unless we tell it to!\"\n",
    "\n",
    "🍊`Programming Language`: A language is something we use to talk to our friends and family, and allows us to communicate! We want to talk to the computer to tell it what we want it to do in a way that the computer understands. We call this a `programming language`. \n",
    "\n",
    "\n",
    "🍊A `statement` is a way for us to tell the computer to do something! \n",
    "\n",
    "\n",
    "🐣 Let's start by telling the computer to say something to us. We can do this by using a `print` statement. We can run our snippet of code by pressing the `Run` button (similar to Scratch's green play button)."
   ]
  },
  {
   "cell_type": "code",
   "execution_count": 5,
   "metadata": {},
   "outputs": [
    {
     "name": "stdout",
     "output_type": "stream",
     "text": [
      "Hello world! 🌎\n"
     ]
    }
   ],
   "source": [
    "print(\"Hello world! 🌎\")"
   ]
  },
  {
   "cell_type": "markdown",
   "metadata": {},
   "source": [
    "🐣Whoa! What just happened? We told the computer to print something, and it did! Great job! Let's keep going! Type in whatever you want the computer to say below. Play around a little bit with this :) "
   ]
  },
  {
   "cell_type": "code",
   "execution_count": 4,
   "metadata": {},
   "outputs": [
    {
     "name": "stdout",
     "output_type": "stream",
     "text": [
      " \n"
     ]
    }
   ],
   "source": [
    "print(\" \")"
   ]
  },
  {
   "cell_type": "markdown",
   "metadata": {},
   "source": [
    "## Part 2: Calculator! 🔢"
   ]
  },
  {
   "cell_type": "markdown",
   "metadata": {},
   "source": [
    "🐣In school, your teachers may tell you to do multiplication tables, or find the sum of 2 numbers. What if we could write code to do this for us?? Let's do this!"
   ]
  },
  {
   "cell_type": "markdown",
   "metadata": {},
   "source": [
    "We can use the `+` sign to add numbers together, the `-` sign for subtraction, the `*` sign for multiplication, and the `/` sign for division."
   ]
  },
  {
   "cell_type": "code",
   "execution_count": 11,
   "metadata": {},
   "outputs": [
    {
     "data": {
      "text/plain": [
       "7"
      ]
     },
     "execution_count": 11,
     "metadata": {},
     "output_type": "execute_result"
    }
   ],
   "source": [
    "3 + 4"
   ]
  },
  {
   "cell_type": "code",
   "execution_count": 12,
   "metadata": {},
   "outputs": [
    {
     "data": {
      "text/plain": [
       "93"
      ]
     },
     "execution_count": 12,
     "metadata": {},
     "output_type": "execute_result"
    }
   ],
   "source": [
    "103 - 10"
   ]
  },
  {
   "cell_type": "code",
   "execution_count": 9,
   "metadata": {},
   "outputs": [
    {
     "data": {
      "text/plain": [
       "5.0"
      ]
     },
     "execution_count": 9,
     "metadata": {},
     "output_type": "execute_result"
    }
   ],
   "source": [
    "10 * 2"
   ]
  },
  {
   "cell_type": "markdown",
   "metadata": {},
   "source": [
    "### Word Problem 🍏🍎\n",
    "\n",
    "🍊Use Python operators to solve a simple word problem.\n",
    "\n",
    "🐣Let me tell you a story. Let's say I have 60 apples. My friend asks me for 47, so I give her 47 apples. After a few days, I see 24 more apples grow. How many apples do I have now? Write some code."
   ]
  },
  {
   "cell_type": "code",
   "execution_count": null,
   "metadata": {},
   "outputs": [],
   "source": []
  },
  {
   "cell_type": "markdown",
   "metadata": {},
   "source": [
    "Congratulations! 🎉We have learned how to do 2 things so far: tell the computer to say something with `print` statements, and have the computer do math for us. Onward!"
   ]
  },
  {
   "cell_type": "markdown",
   "metadata": {},
   "source": [
    "## Part 3: Variables 🗂"
   ]
  },
  {
   "cell_type": "markdown",
   "metadata": {},
   "source": [
    "🍊A variable is a box. We can put something in the box, and we can take something out of the box. We use variables as places to store information, things like sentences, numbers, and much more! Another way to think about a variable is that it is like a label for something. We can give almost any name for to variable! For this section, take out a piece of paper, and draw a box for each variable. \"Put\" numbers in and erase numbers to represent variables."
   ]
  },
  {
   "cell_type": "markdown",
   "metadata": {},
   "source": [
    "🐣Let's create our first variable named `foo`. To put something in our variable (our box), we use the `=` sign, and then tell the computer what the variable should be the label for."
   ]
  },
  {
   "cell_type": "code",
   "execution_count": 15,
   "metadata": {},
   "outputs": [],
   "source": [
    "foo = 5"
   ]
  },
  {
   "cell_type": "markdown",
   "metadata": {},
   "source": [
    "Once we run the piece of code above, we will have a variable called `foo` that contains the number 5! How can we check that the variable (\"box\") `foo` contains `5`?"
   ]
  },
  {
   "cell_type": "markdown",
   "metadata": {},
   "source": [
    "🐣Remember we learned about `print` statements before? We can tell the computer to `print` almost anything! Let's ask the computer to `print` out what our variable `foo` has. How do you think we can do that?"
   ]
  },
  {
   "cell_type": "code",
   "execution_count": null,
   "metadata": {},
   "outputs": [],
   "source": []
  },
  {
   "cell_type": "markdown",
   "metadata": {},
   "source": [
    "🐣 Let's change what we put in our variable \"box\"! Instead of the number 5, let's put the number 100."
   ]
  },
  {
   "cell_type": "code",
   "execution_count": null,
   "metadata": {},
   "outputs": [],
   "source": []
  },
  {
   "cell_type": "markdown",
   "metadata": {},
   "source": [
    "##### Congratulations! You now know how to create variables. 🎉"
   ]
  },
  {
   "cell_type": "markdown",
   "metadata": {},
   "source": [
    "🐣Can we put what we learned about math and variables together? Let's go back to our apples question. Can you create a variable called `apples` and have it contain the number `60`?"
   ]
  },
  {
   "cell_type": "code",
   "execution_count": null,
   "metadata": {},
   "outputs": [],
   "source": []
  },
  {
   "cell_type": "markdown",
   "metadata": {},
   "source": [
    "Great! Let's check the number of apples in our `apples` variable. The `print` statement should print out 60!"
   ]
  },
  {
   "cell_type": "code",
   "execution_count": 16,
   "metadata": {},
   "outputs": [
    {
     "ename": "NameError",
     "evalue": "name 'apples' is not defined",
     "output_type": "error",
     "traceback": [
      "\u001b[0;31m---------------------------------------------------------------------------\u001b[0m",
      "\u001b[0;31mNameError\u001b[0m                                 Traceback (most recent call last)",
      "\u001b[0;32m<ipython-input-16-e75fa823cb35>\u001b[0m in \u001b[0;36m<module>\u001b[0;34m\u001b[0m\n\u001b[0;32m----> 1\u001b[0;31m \u001b[0mprint\u001b[0m\u001b[0;34m(\u001b[0m\u001b[0mapples\u001b[0m\u001b[0;34m)\u001b[0m\u001b[0;34m\u001b[0m\u001b[0;34m\u001b[0m\u001b[0m\n\u001b[0m",
      "\u001b[0;31mNameError\u001b[0m: name 'apples' is not defined"
     ]
    }
   ],
   "source": [
    "print(apples)"
   ]
  },
  {
   "cell_type": "markdown",
   "metadata": {},
   "source": [
    "We can do math with variables too! In the statement `foo = foo + 4`, the computer first looks at the right hand side of the `=` sign. When the computer first sees the variable `foo`, and it will go check the number inside the `foo` variable and take it out of the variable (box). It will then add `4` to that number, and then place the new value back inside of the variable box `foo`! \n",
    "\n",
    "Let's see this in action!"
   ]
  },
  {
   "cell_type": "code",
   "execution_count": null,
   "metadata": {},
   "outputs": [],
   "source": [
    "foo = 10\n",
    "foo = foo + 5\n",
    "# What do you think the computer will print?\n",
    "print(foo)"
   ]
  },
  {
   "cell_type": "markdown",
   "metadata": {},
   "source": [
    "🍊Write a series of assignment/arithmetic statements with the variable `apples` to model the word problem above. Then, print the final value of `apples`. "
   ]
  },
  {
   "cell_type": "code",
   "execution_count": null,
   "metadata": {},
   "outputs": [],
   "source": []
  },
  {
   "cell_type": "markdown",
   "metadata": {},
   "source": [
    "## More math with variables! 🍪🥧"
   ]
  },
  {
   "cell_type": "markdown",
   "metadata": {},
   "source": [
    "Who doesn't like cookies?! Let's play around more with variables, and cookies 😋"
   ]
  },
  {
   "cell_type": "markdown",
   "metadata": {},
   "source": [
    "🐣 Let's say I buy 4 cookies from the grocery store. Create a variable called `cookies` and have it contain the number `4`. Write a print statement to check the variable value!"
   ]
  },
  {
   "cell_type": "code",
   "execution_count": null,
   "metadata": {},
   "outputs": [],
   "source": []
  },
  {
   "cell_type": "code",
   "execution_count": null,
   "metadata": {},
   "outputs": [],
   "source": []
  },
  {
   "cell_type": "markdown",
   "metadata": {},
   "source": [
    "🐣I got extra hungry, and went back and bought 6 pies from the grocery store too! Create a variables called `pies` and have it contain the number `6`."
   ]
  },
  {
   "cell_type": "code",
   "execution_count": null,
   "metadata": {},
   "outputs": [],
   "source": []
  },
  {
   "cell_type": "markdown",
   "metadata": {},
   "source": [
    "How can I use my two variables `cookies` and `pies` to print how many desserts I have total? Write code!"
   ]
  },
  {
   "cell_type": "code",
   "execution_count": null,
   "metadata": {},
   "outputs": [],
   "source": []
  },
  {
   "cell_type": "markdown",
   "metadata": {},
   "source": [
    "## Aside: Strings 🧵"
   ]
  },
  {
   "cell_type": "markdown",
   "metadata": {},
   "source": [
    "🍊Just like numbers, we can also have words and sentences in our code! We call these pieces of text `strings`.\n",
    "<br> 🐣You can think of a string as a bunch of letters, the term makes sense."
   ]
  },
  {
   "cell_type": "markdown",
   "metadata": {},
   "source": [
    "We wrap any piece of text in quotation marks (`''`) to make a `string`! In fact, when we practiced printing `Hello world!`, we were printing a `string`!"
   ]
  },
  {
   "cell_type": "code",
   "execution_count": 20,
   "metadata": {},
   "outputs": [
    {
     "name": "stdout",
     "output_type": "stream",
     "text": [
      "Hello again, world!\n"
     ]
    }
   ],
   "source": [
    "print(\"Hello again, world!\")"
   ]
  },
  {
   "cell_type": "markdown",
   "metadata": {},
   "source": [
    "Can you create a variable called `myName`, and have it contain a string with your name?"
   ]
  },
  {
   "cell_type": "code",
   "execution_count": null,
   "metadata": {},
   "outputs": [],
   "source": []
  },
  {
   "cell_type": "markdown",
   "metadata": {},
   "source": [
    "## Part 4: Lists 📝"
   ]
  },
  {
   "cell_type": "markdown",
   "metadata": {},
   "source": [
    "🍊Imagine writing down a list of foods before going to the grocery store! We can create and store lists with Python too! We can create a list of `strings` using `[]` separated by `,`. In the piece of code below, we have stored a grocery list into a variable `groceryList`."
   ]
  },
  {
   "cell_type": "code",
   "execution_count": 19,
   "metadata": {},
   "outputs": [],
   "source": [
    "groceryList = ['apples', 'cookies', 'milk']"
   ]
  },
  {
   "cell_type": "code",
   "execution_count": null,
   "metadata": {},
   "outputs": [],
   "source": [
    "print(groceryList)"
   ]
  },
  {
   "cell_type": "code",
   "execution_count": null,
   "metadata": {},
   "outputs": [],
   "source": []
  }
 ],
 "metadata": {
  "kernelspec": {
   "display_name": "Python 3",
   "language": "python",
   "name": "python3"
  },
  "language_info": {
   "codemirror_mode": {
    "name": "ipython",
    "version": 3
   },
   "file_extension": ".py",
   "mimetype": "text/x-python",
   "name": "python",
   "nbconvert_exporter": "python",
   "pygments_lexer": "ipython3",
   "version": "3.7.3"
  }
 },
 "nbformat": 4,
 "nbformat_minor": 2
}
