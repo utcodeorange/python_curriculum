{
 "cells": [
  {
   "cell_type": "markdown",
   "metadata": {},
   "source": [
    "# Welcome to the Python Playground! 🐍\n",
    "\n",
    "\n",
    "This notebook is meant to introduce concepts, and provide a foundation for Code Orange mentees ready to move on from Scratch! This is by no means meant to be an exhaustive source of foundation material. We will introduce several concepts. Markdown cells marked with a `🍊` contain content to be read and explained by the mentor, while cells marked with a `🐣` are meant to be completed by the mentee!"
   ]
  },
  {
   "cell_type": "markdown",
   "metadata": {},
   "source": [
    "## Part 1: Printing 🖨\n",
    "\n",
    "\"The computer won't do something unless we tell it to!\"\n",
    "\n",
    "🍊`Programming Language`: A language is something we use to talk to our friends and family, and allows us to communicate! We want to talk to the computer to tell it what we want it to do in a way that the computer understands. We call this a `programming language`. \n",
    "\n",
    "\n",
    "🍊A `statement` is a way for us to tell the computer to do something! \n",
    "\n",
    "\n",
    "🐣 Let's start by telling the computer to say something to us. We can do this by using a `print` statement. We can run our snippet of code by pressing the `Run` button (similar to Scratch's green play button)."
   ]
  },
  {
   "cell_type": "code",
   "execution_count": 5,
   "metadata": {},
   "outputs": [
    {
     "name": "stdout",
     "output_type": "stream",
     "text": [
      "Hello world! 🌎\n"
     ]
    }
   ],
   "source": [
    "print(\"Hello world! 🌎\")"
   ]
  },
  {
   "cell_type": "markdown",
   "metadata": {},
   "source": [
    "🐣Whoa! What just happened? We told the computer to print something, and it did! Great job! Let's keep going! Type in whatever you want the computer to say below. Play around a little bit with this :) "
   ]
  },
  {
   "cell_type": "code",
   "execution_count": 4,
   "metadata": {},
   "outputs": [
    {
     "name": "stdout",
     "output_type": "stream",
     "text": [
      " \n"
     ]
    }
   ],
   "source": [
    "print(\" \")"
   ]
  },
  {
   "cell_type": "markdown",
   "metadata": {},
   "source": [
    "## Part 2: Calculator! 🔢"
   ]
  },
  {
   "cell_type": "markdown",
   "metadata": {},
   "source": [
    "🐣In school, your teachers may tell you to do multiplication tables, or find the sum of 2 numbers. What if we could write code to do this for us?? Let's do this!"
   ]
  },
  {
   "cell_type": "markdown",
   "metadata": {},
   "source": [
    "We can use the `+` sign to add numbers together, the `-` sign for subtraction, the `*` sign for multiplication, and the `/` sign for division."
   ]
  },
  {
   "cell_type": "code",
   "execution_count": 11,
   "metadata": {},
   "outputs": [
    {
     "data": {
      "text/plain": [
       "7"
      ]
     },
     "execution_count": 11,
     "metadata": {},
     "output_type": "execute_result"
    }
   ],
   "source": [
    "3 + 4"
   ]
  },
  {
   "cell_type": "code",
   "execution_count": 12,
   "metadata": {},
   "outputs": [
    {
     "data": {
      "text/plain": [
       "93"
      ]
     },
     "execution_count": 12,
     "metadata": {},
     "output_type": "execute_result"
    }
   ],
   "source": [
    "103 - 10"
   ]
  },
  {
   "cell_type": "code",
   "execution_count": 9,
   "metadata": {},
   "outputs": [
    {
     "data": {
      "text/plain": [
       "5.0"
      ]
     },
     "execution_count": 9,
     "metadata": {},
     "output_type": "execute_result"
    }
   ],
   "source": [
    "10 * 2"
   ]
  },
  {
   "cell_type": "markdown",
   "metadata": {},
   "source": [
    "### Word Problem 🍏🍎\n",
    "\n",
    "🍊Use Python operators to solve a simple word problem.\n",
    "\n",
    "🐣Let me tell you a story. Let's say I have 60 apples. My friend asks me for 47, so I give her 47 apples. After a few days, I see 24 more apples grow. How many apples do I have now? Write some code."
   ]
  },
  {
   "cell_type": "code",
   "execution_count": null,
   "metadata": {},
   "outputs": [],
   "source": []
  },
  {
   "cell_type": "markdown",
   "metadata": {},
   "source": [
    "Congratulations! 🎉We have learned how to do 2 things"
   ]
  }
 ],
 "metadata": {
  "kernelspec": {
   "display_name": "Python 3",
   "language": "python",
   "name": "python3"
  },
  "language_info": {
   "codemirror_mode": {
    "name": "ipython",
    "version": 3
   },
   "file_extension": ".py",
   "mimetype": "text/x-python",
   "name": "python",
   "nbconvert_exporter": "python",
   "pygments_lexer": "ipython3",
   "version": "3.7.3"
  }
 },
 "nbformat": 4,
 "nbformat_minor": 2
}
